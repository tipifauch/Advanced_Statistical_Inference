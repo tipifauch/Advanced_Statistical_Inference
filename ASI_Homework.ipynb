{
 "cells": [
  {
   "cell_type": "markdown",
   "metadata": {
    "collapsed": true
   },
   "source": [
    "# ASI assessed exercise 2015/2016\n",
    "### 22nd April 2016"
   ]
  },
  {
   "cell_type": "markdown",
   "metadata": {},
   "source": [
    "In this work you will analyze two datasets on wine quality available from the UCI machine learning repository: http://archive.ics.uci.edu/ml/datasets/Wine+Quality\n",
    "Listed below are various exercises to undertake. Note that in each case you should implement the algorithms yourselves - you may not use other implementations - and should submit all of your code."
   ]
  },
  {
   "cell_type": "markdown",
   "metadata": {},
   "source": [
    "# Submission"
   ]
  },
  {
   "cell_type": "markdown",
   "metadata": {},
   "source": [
    "You are free to use any language of your choosing but it is your responsibility to ensure that we can compile (if necessary) and run your code. We recommend you use either Matlab or Python. Please submit either: <br>\n",
    "• Your code (including instructions for running - there should be one script that answers all the questions) and a .pdf report documenting your answers to the exercises... <br>\n",
    "• Or (preferably) a single iPython notebook or Matlab Script that we can run. If you take this route, please also submit a .pdf output of the script (iPython: print the html to pdf; Matlab publish the script to html and then print the html to pdf). Your notebook or script should include any text descriptions required in the answers. (Matlab’s cell mode allows you to produce nice text and latex etc; iPythons markdown cells allow you to add text)  \n",
    "Submission will be through the ASI collaborative space.\n",
    "The deadline is Friday 27th May 2016 at 4:00pm."
   ]
  },
  {
   "cell_type": "markdown",
   "metadata": {},
   "source": [
    "# Exercises"
   ]
  },
  {
   "cell_type": "markdown",
   "metadata": {},
   "source": [
    "# 1. (code) \n",
    "#### Download the red and white wine .csv files and import them. The first 11 columns are features and the final column is the target. [3]  "
   ]
  },
  {
   "cell_type": "code",
   "execution_count": 1,
   "metadata": {
    "collapsed": false
   },
   "outputs": [
    {
     "data": {
      "text/html": [
       "<div>\n",
       "<table border=\"1\" class=\"dataframe\">\n",
       "  <thead>\n",
       "    <tr style=\"text-align: right;\">\n",
       "      <th></th>\n",
       "      <th>fixed acidity</th>\n",
       "      <th>volatile acidity</th>\n",
       "      <th>citric acid</th>\n",
       "      <th>residual sugar</th>\n",
       "      <th>chlorides</th>\n",
       "      <th>free sulfur dioxide</th>\n",
       "      <th>total sulfur dioxide</th>\n",
       "      <th>density</th>\n",
       "      <th>pH</th>\n",
       "      <th>sulphates</th>\n",
       "      <th>alcohol</th>\n",
       "      <th>quality</th>\n",
       "    </tr>\n",
       "  </thead>\n",
       "  <tbody>\n",
       "    <tr>\n",
       "      <th>0</th>\n",
       "      <td>7.4</td>\n",
       "      <td>0.70</td>\n",
       "      <td>0.00</td>\n",
       "      <td>1.9</td>\n",
       "      <td>0.076</td>\n",
       "      <td>11</td>\n",
       "      <td>34</td>\n",
       "      <td>0.9978</td>\n",
       "      <td>3.51</td>\n",
       "      <td>0.56</td>\n",
       "      <td>9.4</td>\n",
       "      <td>5</td>\n",
       "    </tr>\n",
       "    <tr>\n",
       "      <th>1</th>\n",
       "      <td>7.8</td>\n",
       "      <td>0.88</td>\n",
       "      <td>0.00</td>\n",
       "      <td>2.6</td>\n",
       "      <td>0.098</td>\n",
       "      <td>25</td>\n",
       "      <td>67</td>\n",
       "      <td>0.9968</td>\n",
       "      <td>3.20</td>\n",
       "      <td>0.68</td>\n",
       "      <td>9.8</td>\n",
       "      <td>5</td>\n",
       "    </tr>\n",
       "    <tr>\n",
       "      <th>2</th>\n",
       "      <td>7.8</td>\n",
       "      <td>0.76</td>\n",
       "      <td>0.04</td>\n",
       "      <td>2.3</td>\n",
       "      <td>0.092</td>\n",
       "      <td>15</td>\n",
       "      <td>54</td>\n",
       "      <td>0.9970</td>\n",
       "      <td>3.26</td>\n",
       "      <td>0.65</td>\n",
       "      <td>9.8</td>\n",
       "      <td>5</td>\n",
       "    </tr>\n",
       "    <tr>\n",
       "      <th>3</th>\n",
       "      <td>11.2</td>\n",
       "      <td>0.28</td>\n",
       "      <td>0.56</td>\n",
       "      <td>1.9</td>\n",
       "      <td>0.075</td>\n",
       "      <td>17</td>\n",
       "      <td>60</td>\n",
       "      <td>0.9980</td>\n",
       "      <td>3.16</td>\n",
       "      <td>0.58</td>\n",
       "      <td>9.8</td>\n",
       "      <td>6</td>\n",
       "    </tr>\n",
       "    <tr>\n",
       "      <th>4</th>\n",
       "      <td>7.4</td>\n",
       "      <td>0.70</td>\n",
       "      <td>0.00</td>\n",
       "      <td>1.9</td>\n",
       "      <td>0.076</td>\n",
       "      <td>11</td>\n",
       "      <td>34</td>\n",
       "      <td>0.9978</td>\n",
       "      <td>3.51</td>\n",
       "      <td>0.56</td>\n",
       "      <td>9.4</td>\n",
       "      <td>5</td>\n",
       "    </tr>\n",
       "    <tr>\n",
       "      <th>5</th>\n",
       "      <td>7.4</td>\n",
       "      <td>0.66</td>\n",
       "      <td>0.00</td>\n",
       "      <td>1.8</td>\n",
       "      <td>0.075</td>\n",
       "      <td>13</td>\n",
       "      <td>40</td>\n",
       "      <td>0.9978</td>\n",
       "      <td>3.51</td>\n",
       "      <td>0.56</td>\n",
       "      <td>9.4</td>\n",
       "      <td>5</td>\n",
       "    </tr>\n",
       "    <tr>\n",
       "      <th>6</th>\n",
       "      <td>7.9</td>\n",
       "      <td>0.60</td>\n",
       "      <td>0.06</td>\n",
       "      <td>1.6</td>\n",
       "      <td>0.069</td>\n",
       "      <td>15</td>\n",
       "      <td>59</td>\n",
       "      <td>0.9964</td>\n",
       "      <td>3.30</td>\n",
       "      <td>0.46</td>\n",
       "      <td>9.4</td>\n",
       "      <td>5</td>\n",
       "    </tr>\n",
       "    <tr>\n",
       "      <th>7</th>\n",
       "      <td>7.3</td>\n",
       "      <td>0.65</td>\n",
       "      <td>0.00</td>\n",
       "      <td>1.2</td>\n",
       "      <td>0.065</td>\n",
       "      <td>15</td>\n",
       "      <td>21</td>\n",
       "      <td>0.9946</td>\n",
       "      <td>3.39</td>\n",
       "      <td>0.47</td>\n",
       "      <td>10.0</td>\n",
       "      <td>7</td>\n",
       "    </tr>\n",
       "    <tr>\n",
       "      <th>8</th>\n",
       "      <td>7.8</td>\n",
       "      <td>0.58</td>\n",
       "      <td>0.02</td>\n",
       "      <td>2.0</td>\n",
       "      <td>0.073</td>\n",
       "      <td>9</td>\n",
       "      <td>18</td>\n",
       "      <td>0.9968</td>\n",
       "      <td>3.36</td>\n",
       "      <td>0.57</td>\n",
       "      <td>9.5</td>\n",
       "      <td>7</td>\n",
       "    </tr>\n",
       "    <tr>\n",
       "      <th>9</th>\n",
       "      <td>7.5</td>\n",
       "      <td>0.50</td>\n",
       "      <td>0.36</td>\n",
       "      <td>6.1</td>\n",
       "      <td>0.071</td>\n",
       "      <td>17</td>\n",
       "      <td>102</td>\n",
       "      <td>0.9978</td>\n",
       "      <td>3.35</td>\n",
       "      <td>0.80</td>\n",
       "      <td>10.5</td>\n",
       "      <td>5</td>\n",
       "    </tr>\n",
       "  </tbody>\n",
       "</table>\n",
       "</div>"
      ],
      "text/plain": [
       "   fixed acidity  volatile acidity  citric acid  residual sugar  chlorides  \\\n",
       "0            7.4              0.70         0.00             1.9      0.076   \n",
       "1            7.8              0.88         0.00             2.6      0.098   \n",
       "2            7.8              0.76         0.04             2.3      0.092   \n",
       "3           11.2              0.28         0.56             1.9      0.075   \n",
       "4            7.4              0.70         0.00             1.9      0.076   \n",
       "5            7.4              0.66         0.00             1.8      0.075   \n",
       "6            7.9              0.60         0.06             1.6      0.069   \n",
       "7            7.3              0.65         0.00             1.2      0.065   \n",
       "8            7.8              0.58         0.02             2.0      0.073   \n",
       "9            7.5              0.50         0.36             6.1      0.071   \n",
       "\n",
       "   free sulfur dioxide  total sulfur dioxide  density    pH  sulphates  \\\n",
       "0                   11                    34   0.9978  3.51       0.56   \n",
       "1                   25                    67   0.9968  3.20       0.68   \n",
       "2                   15                    54   0.9970  3.26       0.65   \n",
       "3                   17                    60   0.9980  3.16       0.58   \n",
       "4                   11                    34   0.9978  3.51       0.56   \n",
       "5                   13                    40   0.9978  3.51       0.56   \n",
       "6                   15                    59   0.9964  3.30       0.46   \n",
       "7                   15                    21   0.9946  3.39       0.47   \n",
       "8                    9                    18   0.9968  3.36       0.57   \n",
       "9                   17                   102   0.9978  3.35       0.80   \n",
       "\n",
       "   alcohol  quality  \n",
       "0      9.4        5  \n",
       "1      9.8        5  \n",
       "2      9.8        5  \n",
       "3      9.8        6  \n",
       "4      9.4        5  \n",
       "5      9.4        5  \n",
       "6      9.4        5  \n",
       "7     10.0        7  \n",
       "8      9.5        7  \n",
       "9     10.5        5  "
      ]
     },
     "execution_count": 1,
     "metadata": {},
     "output_type": "execute_result"
    }
   ],
   "source": [
    "import numpy as np\n",
    "import pandas as pd\n",
    "\n",
    "red_df = pd.read_csv('winequality-red.csv', sep=';')\n",
    "white_df = pd.read_csv('winequality-white.csv', sep=';')\n",
    "\n",
    "red_df[:10]"
   ]
  },
  {
   "cell_type": "code",
   "execution_count": 2,
   "metadata": {
    "collapsed": false
   },
   "outputs": [
    {
     "name": "stdout",
     "output_type": "stream",
     "text": [
      "['fixed acidity', 'volatile acidity', 'citric acid', 'residual sugar', 'chlorides', 'free sulfur dioxide', 'total sulfur dioxide', 'density', 'pH', 'sulphates', 'alcohol']\n"
     ]
    }
   ],
   "source": [
    "# list of all the features\n",
    "features=[]\n",
    "for feature in red_df[:0]:\n",
    "    features.append(feature)\n",
    "features=features[:-1]\n",
    "print features"
   ]
  },
  {
   "cell_type": "markdown",
   "metadata": {},
   "source": [
    "# 2. (code)\n",
    "#### Plot bar-plots of the number of examples with each target value for the two datasets. [3]  "
   ]
  },
  {
   "cell_type": "code",
   "execution_count": 3,
   "metadata": {
    "collapsed": false
   },
   "outputs": [
    {
     "data": {
      "image/png": "[encoded data removed]",
      "text/plain": [
       "<matplotlib.figure.Figure at 0x10ddb8e50>"
      ]
     },
     "metadata": {},
     "output_type": "display_data"
    },
    {
     "data": {
      "image/png": "[encoded data removed]",
      "text/plain": [
       "<matplotlib.figure.Figure at 0x1090e3810>"
      ]
     },
     "metadata": {},
     "output_type": "display_data"
    }
   ],
   "source": [
    "%matplotlib inline\n",
    "import matplotlib.pyplot as plt\n",
    "import plotly.plotly as py\n",
    "\n",
    "def plot_examples(df_name, name):\n",
    "    x = df_name.quality.unique()\n",
    "    y = []\n",
    "    for i in x:\n",
    "        y = np.append(y, int(df_name[df_name.quality == i].count()[0]))\n",
    "    \n",
    "    plt.title(name+' wine')\n",
    "    plt.xlabel('Target values')\n",
    "    plt.ylabel('Number of examples')    \n",
    "    plt.bar(x, y, align='center')\n",
    "    plt.show()\n",
    "    \n",
    "plot_examples(red_df, 'Red')\n",
    "plot_examples(white_df, 'White')"
   ]
  },
  {
   "cell_type": "markdown",
   "metadata": {},
   "source": [
    "# 3. (words)\n",
    "#### Comment on these distributions. How might they effect the analysis? [4]  "
   ]
  },
  {
   "cell_type": "markdown",
   "metadata": {},
   "source": [
    "Blablabla"
   ]
  },
  {
   "cell_type": "markdown",
   "metadata": {},
   "source": [
    "# 4. Linear regression:"
   ]
  },
  {
   "cell_type": "markdown",
   "metadata": {},
   "source": [
    "# 4a. (code) \n",
    "#### We will now concentrate on the red wine data. Randomly split the data into a training and test set with 70% of the examples in the training and 30% in the test. [5]  "
   ]
  },
  {
   "cell_type": "code",
   "execution_count": 4,
   "metadata": {
    "collapsed": false
   },
   "outputs": [
    {
     "data": {
      "text/html": [
       "<div>\n",
       "<table border=\"1\" class=\"dataframe\">\n",
       "  <thead>\n",
       "    <tr style=\"text-align: right;\">\n",
       "      <th></th>\n",
       "      <th>fixed acidity</th>\n",
       "      <th>volatile acidity</th>\n",
       "      <th>citric acid</th>\n",
       "      <th>residual sugar</th>\n",
       "      <th>chlorides</th>\n",
       "      <th>free sulfur dioxide</th>\n",
       "      <th>total sulfur dioxide</th>\n",
       "      <th>density</th>\n",
       "      <th>pH</th>\n",
       "      <th>sulphates</th>\n",
       "      <th>alcohol</th>\n",
       "      <th>quality</th>\n",
       "    </tr>\n",
       "  </thead>\n",
       "  <tbody>\n",
       "    <tr>\n",
       "      <th>0</th>\n",
       "      <td>8.4</td>\n",
       "      <td>0.36</td>\n",
       "      <td>0.32</td>\n",
       "      <td>2.2</td>\n",
       "      <td>0.081</td>\n",
       "      <td>32</td>\n",
       "      <td>79</td>\n",
       "      <td>0.99640</td>\n",
       "      <td>3.30</td>\n",
       "      <td>0.72</td>\n",
       "      <td>11.0</td>\n",
       "      <td>6</td>\n",
       "    </tr>\n",
       "    <tr>\n",
       "      <th>1</th>\n",
       "      <td>8.4</td>\n",
       "      <td>0.52</td>\n",
       "      <td>0.22</td>\n",
       "      <td>2.7</td>\n",
       "      <td>0.084</td>\n",
       "      <td>4</td>\n",
       "      <td>18</td>\n",
       "      <td>0.99682</td>\n",
       "      <td>3.26</td>\n",
       "      <td>0.57</td>\n",
       "      <td>9.9</td>\n",
       "      <td>6</td>\n",
       "    </tr>\n",
       "    <tr>\n",
       "      <th>2</th>\n",
       "      <td>7.7</td>\n",
       "      <td>0.51</td>\n",
       "      <td>0.28</td>\n",
       "      <td>2.1</td>\n",
       "      <td>0.087</td>\n",
       "      <td>23</td>\n",
       "      <td>54</td>\n",
       "      <td>0.99800</td>\n",
       "      <td>3.42</td>\n",
       "      <td>0.74</td>\n",
       "      <td>9.2</td>\n",
       "      <td>5</td>\n",
       "    </tr>\n",
       "    <tr>\n",
       "      <th>3</th>\n",
       "      <td>9.1</td>\n",
       "      <td>0.22</td>\n",
       "      <td>0.24</td>\n",
       "      <td>2.1</td>\n",
       "      <td>0.078</td>\n",
       "      <td>1</td>\n",
       "      <td>28</td>\n",
       "      <td>0.99900</td>\n",
       "      <td>3.41</td>\n",
       "      <td>0.87</td>\n",
       "      <td>10.3</td>\n",
       "      <td>6</td>\n",
       "    </tr>\n",
       "    <tr>\n",
       "      <th>4</th>\n",
       "      <td>11.9</td>\n",
       "      <td>0.38</td>\n",
       "      <td>0.51</td>\n",
       "      <td>2.0</td>\n",
       "      <td>0.121</td>\n",
       "      <td>7</td>\n",
       "      <td>20</td>\n",
       "      <td>0.99960</td>\n",
       "      <td>3.24</td>\n",
       "      <td>0.76</td>\n",
       "      <td>10.4</td>\n",
       "      <td>6</td>\n",
       "    </tr>\n",
       "    <tr>\n",
       "      <th>5</th>\n",
       "      <td>11.3</td>\n",
       "      <td>0.62</td>\n",
       "      <td>0.67</td>\n",
       "      <td>5.2</td>\n",
       "      <td>0.086</td>\n",
       "      <td>6</td>\n",
       "      <td>19</td>\n",
       "      <td>0.99880</td>\n",
       "      <td>3.22</td>\n",
       "      <td>0.69</td>\n",
       "      <td>13.4</td>\n",
       "      <td>8</td>\n",
       "    </tr>\n",
       "    <tr>\n",
       "      <th>6</th>\n",
       "      <td>7.5</td>\n",
       "      <td>0.31</td>\n",
       "      <td>0.41</td>\n",
       "      <td>2.4</td>\n",
       "      <td>0.065</td>\n",
       "      <td>34</td>\n",
       "      <td>60</td>\n",
       "      <td>0.99492</td>\n",
       "      <td>3.34</td>\n",
       "      <td>0.85</td>\n",
       "      <td>11.4</td>\n",
       "      <td>6</td>\n",
       "    </tr>\n",
       "    <tr>\n",
       "      <th>7</th>\n",
       "      <td>7.1</td>\n",
       "      <td>0.60</td>\n",
       "      <td>0.01</td>\n",
       "      <td>2.3</td>\n",
       "      <td>0.079</td>\n",
       "      <td>24</td>\n",
       "      <td>37</td>\n",
       "      <td>0.99514</td>\n",
       "      <td>3.40</td>\n",
       "      <td>0.61</td>\n",
       "      <td>10.9</td>\n",
       "      <td>6</td>\n",
       "    </tr>\n",
       "    <tr>\n",
       "      <th>8</th>\n",
       "      <td>7.2</td>\n",
       "      <td>0.36</td>\n",
       "      <td>0.46</td>\n",
       "      <td>2.1</td>\n",
       "      <td>0.074</td>\n",
       "      <td>24</td>\n",
       "      <td>44</td>\n",
       "      <td>0.99534</td>\n",
       "      <td>3.40</td>\n",
       "      <td>0.85</td>\n",
       "      <td>11.0</td>\n",
       "      <td>7</td>\n",
       "    </tr>\n",
       "    <tr>\n",
       "      <th>9</th>\n",
       "      <td>5.7</td>\n",
       "      <td>1.13</td>\n",
       "      <td>0.09</td>\n",
       "      <td>1.5</td>\n",
       "      <td>0.172</td>\n",
       "      <td>7</td>\n",
       "      <td>19</td>\n",
       "      <td>0.99400</td>\n",
       "      <td>3.50</td>\n",
       "      <td>0.48</td>\n",
       "      <td>9.8</td>\n",
       "      <td>4</td>\n",
       "    </tr>\n",
       "  </tbody>\n",
       "</table>\n",
       "</div>"
      ],
      "text/plain": [
       "   fixed acidity  volatile acidity  citric acid  residual sugar  chlorides  \\\n",
       "0            8.4              0.36         0.32             2.2      0.081   \n",
       "1            8.4              0.52         0.22             2.7      0.084   \n",
       "2            7.7              0.51         0.28             2.1      0.087   \n",
       "3            9.1              0.22         0.24             2.1      0.078   \n",
       "4           11.9              0.38         0.51             2.0      0.121   \n",
       "5           11.3              0.62         0.67             5.2      0.086   \n",
       "6            7.5              0.31         0.41             2.4      0.065   \n",
       "7            7.1              0.60         0.01             2.3      0.079   \n",
       "8            7.2              0.36         0.46             2.1      0.074   \n",
       "9            5.7              1.13         0.09             1.5      0.172   \n",
       "\n",
       "   free sulfur dioxide  total sulfur dioxide  density    pH  sulphates  \\\n",
       "0                   32                    79  0.99640  3.30       0.72   \n",
       "1                    4                    18  0.99682  3.26       0.57   \n",
       "2                   23                    54  0.99800  3.42       0.74   \n",
       "3                    1                    28  0.99900  3.41       0.87   \n",
       "4                    7                    20  0.99960  3.24       0.76   \n",
       "5                    6                    19  0.99880  3.22       0.69   \n",
       "6                   34                    60  0.99492  3.34       0.85   \n",
       "7                   24                    37  0.99514  3.40       0.61   \n",
       "8                   24                    44  0.99534  3.40       0.85   \n",
       "9                    7                    19  0.99400  3.50       0.48   \n",
       "\n",
       "   alcohol  quality  \n",
       "0     11.0        6  \n",
       "1      9.9        6  \n",
       "2      9.2        5  \n",
       "3     10.3        6  \n",
       "4     10.4        6  \n",
       "5     13.4        8  \n",
       "6     11.4        6  \n",
       "7     10.9        6  \n",
       "8     11.0        7  \n",
       "9      9.8        4  "
      ]
     },
     "execution_count": 4,
     "metadata": {},
     "output_type": "execute_result"
    }
   ],
   "source": [
    "# define the rows numbers and shuffle them \n",
    "rows = list(red_df.index)\n",
    "row_count = len(rows)\n",
    "np.random.shuffle(rows)\n",
    "\n",
    "# order the data rows according to the previous shuffling and reindex them\n",
    "shuffled_red_df = red_df.reindex(rows).reset_index(drop=True)\n",
    "\n",
    "train_data = shuffled_red_df[:row_count*70 // 100]\n",
    "test_data = shuffled_red_df[row_count*70 // 100:].reset_index(drop=True)\n",
    "\n",
    "train_data[:10]"
   ]
  },
  {
   "cell_type": "markdown",
   "metadata": {},
   "source": [
    "# 4b. (code)\n",
    "#### Fit a linear regression to the training data. [5]  "
   ]
  },
  {
   "cell_type": "code",
   "execution_count": 5,
   "metadata": {
    "collapsed": false
   },
   "outputs": [],
   "source": [
    "# for feature in features:\n",
    "#     train_data.plot(kind='scatter', x=feature, y='quality')\n",
    "    \n",
    "# plt.show()"
   ]
  },
  {
   "cell_type": "markdown",
   "metadata": {},
   "source": [
    "We could calculate each (w0, w1) for each feature and have a a different linear regression for every feature. Instead, we compute a mean w0 and 11 coefficients w1, w2, ..., w11 to compute a polynomial function on the form:<br> P= w0 + w1*x1 + ... + w11*x11, where x1, ..., x11 are the values corresponding to each feature for a specific wine.<br>    \n",
    "Thus, even though we are producing a polynomial fit, we still have a linear regression problem because the hypothesis is linear in each feature. "
   ]
  },
  {
   "cell_type": "code",
   "execution_count": 5,
   "metadata": {
    "collapsed": false
   },
   "outputs": [
    {
     "data": {
      "image/png": "[encoded data removed]",
      "text/plain": [
       "<matplotlib.figure.Figure at 0x10dd9ad50>"
      ]
     },
     "metadata": {},
     "output_type": "display_data"
    },
    {
     "data": {
      "image/png": "[encoded data removed]",
      "text/plain": [
       "<matplotlib.figure.Figure at 0x1090e3a10>"
      ]
     },
     "metadata": {},
     "output_type": "display_data"
    },
    {
     "data": {
      "image/png": "[encoded data removed]",
      "text/plain": [
       "<matplotlib.figure.Figure at 0x10df7b2d0>"
      ]
     },
     "metadata": {},
     "output_type": "display_data"
    }
   ],
   "source": [
    "# compute X matrix which is a 1119x12 matrix\n",
    "# a first row of ones (x^0) and the value of each feature as the 11 following rows\n",
    "def X_data_vector(data):\n",
    "    vector = pd.DataFrame(np.ones((len(red_df), 1))).join(data.drop('quality', 1), how='right')\n",
    "    vector = np.array(vector)\n",
    "    return vector\n",
    "\n",
    "# compute Y vector (1119x1)\n",
    "def Y_target_vector(data):\n",
    "    vector = np.array(data['quality'])\n",
    "    return vector\n",
    "\n",
    "# compute W vector (12x1) with the formula [t(X).X](^-1).t(X).Y\n",
    "def W_vector(data):\n",
    "    o = np.dot(X_data_vector(data).transpose(), X_data_vector(data))\n",
    "    p = np.linalg.inv(o)\n",
    "    q = np.dot(X_data_vector(data).transpose(), Y_target_vector(data))\n",
    "    vector = np.dot(p, q)\n",
    "    return vector\n",
    "\n",
    "# compute pred vector (1119x1) built with W_vector computed on the training dataset\n",
    "def pred_vector(data):\n",
    "    pred = np.dot(W_vector(train_data), X_data_vector(data).transpose())\n",
    "    return pred\n",
    "\n",
    "# plot the linear regression for a dataset for a given feature\n",
    "def linear_regression(data, feature):\n",
    "    plt.scatter(data[feature], pred_vector(data), color='r')\n",
    "    return\n",
    "\n",
    "# plot the quality predictions in red and the real quality values in blue for a given feature\n",
    "def linear_on_data(data, feature):\n",
    "    data.plot(kind='scatter', x=feature, y='quality')\n",
    "    linear_regression(data, feature)\n",
    "    return plt.show()\n",
    "\n",
    "# plot the linear regression on the training dataset for 3 different features\n",
    "linear_on_data(train_data, 'alcohol')\n",
    "linear_on_data(train_data, 'free sulfur dioxide')\n",
    "linear_on_data(test_data, 'free sulfur dioxide')"
   ]
  },
  {
   "cell_type": "markdown",
   "metadata": {},
   "source": [
    "# 4c. (code) \n",
    "#### Make a scatter plot the predictions versus the true targets for the test set and compute the  mean squared error on the test set [5]  "
   ]
  },
  {
   "cell_type": "code",
   "execution_count": 6,
   "metadata": {
    "collapsed": false
   },
   "outputs": [
    {
     "data": {
      "image/png": "[encoded data removed]",
      "text/plain": [
       "<matplotlib.figure.Figure at 0x10beefd10>"
      ]
     },
     "metadata": {},
     "output_type": "display_data"
    },
    {
     "data": {
      "image/png": "[encoded data removed]",
      "text/plain": [
       "<matplotlib.figure.Figure at 0x10dfde690>"
      ]
     },
     "metadata": {},
     "output_type": "display_data"
    },
    {
     "name": "stdout",
     "output_type": "stream",
     "text": [
      "Mean squared error: 0.380502887383\n"
     ]
    }
   ],
   "source": [
    "# plot the linear regression on the test dataset for 2 different features\n",
    "linear_on_data(test_data, 'fixed acidity')\n",
    "linear_on_data(test_data, 'free sulfur dioxide')\n",
    "\n",
    "# compute the mean squared error on the test dataset\n",
    "def mean_square_error(data):\n",
    "    pred = pred_vector(data)\n",
    "    error = sum((pred-data['quality'])**2/len(data['quality']))\n",
    "    return error\n",
    "\n",
    "print('Mean squared error: '+str(mean_square_error(test_data)))"
   ]
  },
  {
   "cell_type": "code",
   "execution_count": 8,
   "metadata": {
    "collapsed": false
   },
   "outputs": [
    {
     "data": {
      "text/plain": [
       "0.39984845792002599"
      ]
     },
     "execution_count": 8,
     "metadata": {},
     "output_type": "execute_result"
    }
   ],
   "source": [
    "mean_square_error(train_data)"
   ]
  },
  {
   "cell_type": "markdown",
   "metadata": {},
   "source": [
    "# 4d. (words) \n",
    "#### Suggest a benchmark that you could use to decide if this mean squared error value is good.  [5] "
   ]
  },
  {
   "cell_type": "markdown",
   "metadata": {},
   "source": [
    "The mean squared error can be interpreted as the average error on the predicted quality for a given wine.<br>\n",
    "Thus, if a wine is predicted having a 6-quality for example, the model expects the real quality to be approximatively between 4.7 and 7.3. \n",
    "<br><br>\n",
    "Confidence interval: \n",
    "I decided to calculate 90% confidence intervals for my coefficients, which means that my model will be considered good - and the calculated error relevant - if 90% of the quality predictions are consistent with their corresponding wine sample. The benchmark thus will be the number of wine samples whose true quality is between the predicted one +/- the mean squared error value."
   ]
  },
  {
   "cell_type": "markdown",
   "metadata": {},
   "source": [
    "# 4e. (code) \n",
    "#### Implement your benchmark. [5] "
   ]
  },
  {
   "cell_type": "code",
   "execution_count": 7,
   "metadata": {
    "collapsed": false
   },
   "outputs": [
    {
     "data": {
      "text/plain": [
       "'49%'"
      ]
     },
     "execution_count": 7,
     "metadata": {},
     "output_type": "execute_result"
    }
   ],
   "source": [
    "def benchmark(data):\n",
    "    error = mean_square_error(data)\n",
    "    count = 0\n",
    "    # count the number of samples close enough to their predictions\n",
    "    for i in range(len(data)):\n",
    "        if abs(data['quality'][i] - pred_vector(data)[i]) <= error:\n",
    "            count += 1\n",
    "    \n",
    "    # calculate their pourcentage among all the data\n",
    "    result = count*100/len(data);\n",
    "    return str(result)+'%'\n",
    "\n",
    "benchmark(test_data)"
   ]
  },
  {
   "cell_type": "code",
   "execution_count": 8,
   "metadata": {
    "collapsed": false
   },
   "outputs": [
    {
     "data": {
      "text/plain": [
       "'52%'"
      ]
     },
     "execution_count": 8,
     "metadata": {},
     "output_type": "execute_result"
    }
   ],
   "source": [
    "benchmark(train_data)"
   ]
  },
  {
   "cell_type": "markdown",
   "metadata": {},
   "source": [
    "# 4f. (words) \n",
    "#### Briefly discuss the linear regression performance with respect to the benchmark. [5]"
   ]
  },
  {
   "cell_type": "markdown",
   "metadata": {},
   "source": [
    "Overfitting! <br>\n",
    "Then, there are 68% of wine samples whose predicted quality is equal (+/- the mean squared error) to the true quality. This is quite far from the 95%-confidence interval I expected to reach. Thus with respect to this benchmark, the linear regression gives poor results and must be improved to give relevant results."
   ]
  },
  {
   "cell_type": "markdown",
   "metadata": {},
   "source": [
    "# 5. Regularized linear regression:"
   ]
  },
  {
   "cell_type": "markdown",
   "metadata": {},
   "source": [
    "# 5a. (code) \n",
    "#### Implement regularized least squares and make a plot of the test performance versus the regularization parameter. [10] "
   ]
  },
  {
   "cell_type": "code",
   "execution_count": 9,
   "metadata": {
    "collapsed": false
   },
   "outputs": [],
   "source": [
    "def reg_W_vector(train_set, param):\n",
    "    # compute a matrix identity with a zero in the upper left \n",
    "    mat = np.identity(12)\n",
    "    mat[0][0]=0\n",
    "    \n",
    "    # compute regularized W vector (1x12) with the formula [t(X).X + param*mat](^-1).t(X).Y\n",
    "    o = np.dot(X_data_vector(train_set).transpose(), X_data_vector(train_set))\n",
    "    p = np.linalg.inv(o + param*mat)\n",
    "    q = np.dot(X_data_vector(train_set).transpose(), Y_target_vector(train_set))\n",
    "    vector = np.dot(p, q)\n",
    "    return vector\n",
    "\n",
    "# compute the regularized pred vector (1119x1) computed from the test features values\n",
    "def reg_pred_vector(train_set, test_set, param):\n",
    "    pred = np.dot(reg_W_vector(train_set, param), X_data_vector(test_set).transpose())\n",
    "    return pred\n",
    "\n",
    "# compute the regularized mean squared error on the test dataset depending on the regularization parameter\n",
    "def reg_mean_square_error(train_set, test_set, param):\n",
    "    pred = reg_pred_vector(train_set, test_set, param)\n",
    "    error = sum((pred-test_set['quality'])**2)/len(test_set['quality'])\n",
    "    return error\n",
    "\n",
    "# xlarge = np.arange(-10,10,0.1)\n",
    "# ylarge = [] \n",
    "# for i in xlarge:\n",
    "#     ylarge.append(reg_mean_square_error(train_data, test_data, i))\n",
    "\n",
    "# plt.plot(xlarge, ylarge)\n",
    "# plt.show()\n",
    "\n",
    "# for i in xlarge:\n",
    "#     if reg_mean_square_error(data, i) == min(ylarge):\n",
    "#         print 'Optimal regularization parameter: '+str(i)\n",
    "#         print 'Optimal mean squared error: '+str(min(ylarge))"
   ]
  },
  {
   "cell_type": "code",
   "execution_count": 10,
   "metadata": {
    "collapsed": false
   },
   "outputs": [
    {
     "data": {
      "image/png": "[encoded data removed]",
      "text/plain": [
       "<matplotlib.figure.Figure at 0x10df0a890>"
      ]
     },
     "metadata": {},
     "output_type": "display_data"
    },
    {
     "name": "stdout",
     "output_type": "stream",
     "text": [
      "Optimal regularization parameter: 1.2\n",
      "Optimal mean squared error: 0.377893553365\n"
     ]
    }
   ],
   "source": [
    "def plot_param(train_set, test_set):\n",
    "    x = np.arange(-2,2,0.1)\n",
    "    y = [] \n",
    "    for i in x:\n",
    "        y.append(reg_mean_square_error(train_set, test_set, i))\n",
    "   \n",
    "    plt.plot(x, y)\n",
    "    return plt.show()\n",
    "\n",
    "# compute the optimal regularization parameter and the corresponding mean squared error\n",
    "def opt_param(train_set, test_set):\n",
    "    x = np.arange(-2,2,0.1)\n",
    "    y = [] \n",
    "    for i in x:\n",
    "        y.append(reg_mean_square_error(train_set, test_set, i))\n",
    "    \n",
    "    for i in x:\n",
    "        if reg_mean_square_error(train_set, test_set, i) == min(y):\n",
    "            print 'Optimal regularization parameter: '+str(i)\n",
    "            print 'Optimal mean squared error: '+str(min(y))\n",
    "        \n",
    "    return\n",
    "\n",
    "plot_param(train_data, test_data)\n",
    "opt_param(train_data, test_data)"
   ]
  },
  {
   "cell_type": "markdown",
   "metadata": {},
   "source": [
    "# 5b. (words) \n",
    "#### Describe why this is not a good way of determining the value of the regularization parameter. [5]  "
   ]
  },
  {
   "cell_type": "markdown",
   "metadata": {},
   "source": [
    "OVERFITTING!!\n",
    "Because tis method is not precise enough and highlights only local minima.<br>\n",
    "We are trying to determine the value of the regularization parameter by evaluating it on the test_data, that is the dataset we wanted to predict at the first place...Learning the parameters of a prediction function and testing it on the same data is a methodological mistake: a model that would just repeat the labels of the samples that it has just seen would have a perfect score but would fail to predict anything useful on yet-unseen data.<br>\n",
    "It is not a useful estimator of model performance and thus the error on the test data set does not properly represent the assessment of model performance. This may be because there is not enough data available or there is not a good distribution and spread of data to partition it into separate training and test sets in the conventional validation method. "
   ]
  },
  {
   "cell_type": "markdown",
   "metadata": {},
   "source": [
    "# 5c. (code) \n",
    "#### Implement a 10-fold CV on the training data and use this to determine the value of the regularization parameter. Quote the optimal value, and the performance at this value on the test set. [10]  "
   ]
  },
  {
   "cell_type": "code",
   "execution_count": 11,
   "metadata": {
    "collapsed": false
   },
   "outputs": [
    {
     "data": {
      "text/html": [
       "<div>\n",
       "<table border=\"1\" class=\"dataframe\">\n",
       "  <thead>\n",
       "    <tr style=\"text-align: right;\">\n",
       "      <th></th>\n",
       "      <th>fixed acidity</th>\n",
       "      <th>volatile acidity</th>\n",
       "      <th>citric acid</th>\n",
       "      <th>residual sugar</th>\n",
       "      <th>chlorides</th>\n",
       "      <th>free sulfur dioxide</th>\n",
       "      <th>total sulfur dioxide</th>\n",
       "      <th>density</th>\n",
       "      <th>pH</th>\n",
       "      <th>sulphates</th>\n",
       "      <th>alcohol</th>\n",
       "      <th>quality</th>\n",
       "    </tr>\n",
       "  </thead>\n",
       "  <tbody>\n",
       "    <tr>\n",
       "      <th>0</th>\n",
       "      <td>10.2</td>\n",
       "      <td>0.41</td>\n",
       "      <td>0.43</td>\n",
       "      <td>2.20</td>\n",
       "      <td>0.110</td>\n",
       "      <td>11</td>\n",
       "      <td>37</td>\n",
       "      <td>0.99728</td>\n",
       "      <td>3.16</td>\n",
       "      <td>0.67</td>\n",
       "      <td>10.8</td>\n",
       "      <td>5</td>\n",
       "    </tr>\n",
       "    <tr>\n",
       "      <th>1</th>\n",
       "      <td>9.3</td>\n",
       "      <td>0.33</td>\n",
       "      <td>0.45</td>\n",
       "      <td>1.50</td>\n",
       "      <td>0.057</td>\n",
       "      <td>19</td>\n",
       "      <td>37</td>\n",
       "      <td>0.99498</td>\n",
       "      <td>3.18</td>\n",
       "      <td>0.89</td>\n",
       "      <td>11.1</td>\n",
       "      <td>7</td>\n",
       "    </tr>\n",
       "    <tr>\n",
       "      <th>2</th>\n",
       "      <td>8.7</td>\n",
       "      <td>0.69</td>\n",
       "      <td>0.31</td>\n",
       "      <td>3.00</td>\n",
       "      <td>0.086</td>\n",
       "      <td>23</td>\n",
       "      <td>81</td>\n",
       "      <td>1.00020</td>\n",
       "      <td>3.48</td>\n",
       "      <td>0.74</td>\n",
       "      <td>11.6</td>\n",
       "      <td>6</td>\n",
       "    </tr>\n",
       "    <tr>\n",
       "      <th>3</th>\n",
       "      <td>11.1</td>\n",
       "      <td>0.31</td>\n",
       "      <td>0.53</td>\n",
       "      <td>2.20</td>\n",
       "      <td>0.060</td>\n",
       "      <td>3</td>\n",
       "      <td>10</td>\n",
       "      <td>0.99572</td>\n",
       "      <td>3.02</td>\n",
       "      <td>0.83</td>\n",
       "      <td>10.9</td>\n",
       "      <td>7</td>\n",
       "    </tr>\n",
       "    <tr>\n",
       "      <th>4</th>\n",
       "      <td>7.0</td>\n",
       "      <td>0.69</td>\n",
       "      <td>0.07</td>\n",
       "      <td>2.50</td>\n",
       "      <td>0.091</td>\n",
       "      <td>15</td>\n",
       "      <td>21</td>\n",
       "      <td>0.99572</td>\n",
       "      <td>3.38</td>\n",
       "      <td>0.60</td>\n",
       "      <td>11.3</td>\n",
       "      <td>6</td>\n",
       "    </tr>\n",
       "    <tr>\n",
       "      <th>5</th>\n",
       "      <td>7.2</td>\n",
       "      <td>0.57</td>\n",
       "      <td>0.05</td>\n",
       "      <td>2.30</td>\n",
       "      <td>0.081</td>\n",
       "      <td>16</td>\n",
       "      <td>36</td>\n",
       "      <td>0.99564</td>\n",
       "      <td>3.38</td>\n",
       "      <td>0.60</td>\n",
       "      <td>10.3</td>\n",
       "      <td>6</td>\n",
       "    </tr>\n",
       "    <tr>\n",
       "      <th>6</th>\n",
       "      <td>5.2</td>\n",
       "      <td>0.34</td>\n",
       "      <td>0.00</td>\n",
       "      <td>1.80</td>\n",
       "      <td>0.050</td>\n",
       "      <td>27</td>\n",
       "      <td>63</td>\n",
       "      <td>0.99160</td>\n",
       "      <td>3.68</td>\n",
       "      <td>0.79</td>\n",
       "      <td>14.0</td>\n",
       "      <td>6</td>\n",
       "    </tr>\n",
       "    <tr>\n",
       "      <th>7</th>\n",
       "      <td>7.7</td>\n",
       "      <td>0.49</td>\n",
       "      <td>0.26</td>\n",
       "      <td>1.90</td>\n",
       "      <td>0.062</td>\n",
       "      <td>9</td>\n",
       "      <td>31</td>\n",
       "      <td>0.99660</td>\n",
       "      <td>3.39</td>\n",
       "      <td>0.64</td>\n",
       "      <td>9.6</td>\n",
       "      <td>5</td>\n",
       "    </tr>\n",
       "    <tr>\n",
       "      <th>8</th>\n",
       "      <td>11.9</td>\n",
       "      <td>0.40</td>\n",
       "      <td>0.65</td>\n",
       "      <td>2.15</td>\n",
       "      <td>0.068</td>\n",
       "      <td>7</td>\n",
       "      <td>27</td>\n",
       "      <td>0.99880</td>\n",
       "      <td>3.06</td>\n",
       "      <td>0.68</td>\n",
       "      <td>11.3</td>\n",
       "      <td>6</td>\n",
       "    </tr>\n",
       "    <tr>\n",
       "      <th>9</th>\n",
       "      <td>6.8</td>\n",
       "      <td>0.57</td>\n",
       "      <td>0.00</td>\n",
       "      <td>2.50</td>\n",
       "      <td>0.072</td>\n",
       "      <td>32</td>\n",
       "      <td>64</td>\n",
       "      <td>0.99491</td>\n",
       "      <td>3.43</td>\n",
       "      <td>0.56</td>\n",
       "      <td>11.2</td>\n",
       "      <td>6</td>\n",
       "    </tr>\n",
       "  </tbody>\n",
       "</table>\n",
       "</div>"
      ],
      "text/plain": [
       "   fixed acidity  volatile acidity  citric acid  residual sugar  chlorides  \\\n",
       "0           10.2              0.41         0.43            2.20      0.110   \n",
       "1            9.3              0.33         0.45            1.50      0.057   \n",
       "2            8.7              0.69         0.31            3.00      0.086   \n",
       "3           11.1              0.31         0.53            2.20      0.060   \n",
       "4            7.0              0.69         0.07            2.50      0.091   \n",
       "5            7.2              0.57         0.05            2.30      0.081   \n",
       "6            5.2              0.34         0.00            1.80      0.050   \n",
       "7            7.7              0.49         0.26            1.90      0.062   \n",
       "8           11.9              0.40         0.65            2.15      0.068   \n",
       "9            6.8              0.57         0.00            2.50      0.072   \n",
       "\n",
       "   free sulfur dioxide  total sulfur dioxide  density    pH  sulphates  \\\n",
       "0                   11                    37  0.99728  3.16       0.67   \n",
       "1                   19                    37  0.99498  3.18       0.89   \n",
       "2                   23                    81  1.00020  3.48       0.74   \n",
       "3                    3                    10  0.99572  3.02       0.83   \n",
       "4                   15                    21  0.99572  3.38       0.60   \n",
       "5                   16                    36  0.99564  3.38       0.60   \n",
       "6                   27                    63  0.99160  3.68       0.79   \n",
       "7                    9                    31  0.99660  3.39       0.64   \n",
       "8                    7                    27  0.99880  3.06       0.68   \n",
       "9                   32                    64  0.99491  3.43       0.56   \n",
       "\n",
       "   alcohol  quality  \n",
       "0     10.8        5  \n",
       "1     11.1        7  \n",
       "2     11.6        6  \n",
       "3     10.9        7  \n",
       "4     11.3        6  \n",
       "5     10.3        6  \n",
       "6     14.0        6  \n",
       "7      9.6        5  \n",
       "8     11.3        6  \n",
       "9     11.2        6  "
      ]
     },
     "execution_count": 11,
     "metadata": {},
     "output_type": "execute_result"
    }
   ],
   "source": [
    "# define the rows numbers and shuffle them (as previously)\n",
    "train_rows = list(train_data.index)\n",
    "train_rows_count = len(train_rows)\n",
    "np.random.shuffle(train_rows)\n",
    "fold_size = train_rows_count/10\n",
    "\n",
    "# order the training data rows according to the previous shuffling and reindex them\n",
    "shuffled_train_data = train_data.reindex(train_rows).reset_index(drop=True)\n",
    "\n",
    "# set the 10 folds \n",
    "fold = dict()\n",
    "for k in range(10):\n",
    "    fold[k] = shuffled_train_data[k*fold_size:(k+1)*fold_size].reset_index(drop=True)\n",
    "\n",
    "# Here are the 10 first rows of the first fold\n",
    "fold[1][:10]"
   ]
  },
  {
   "cell_type": "code",
   "execution_count": 12,
   "metadata": {
    "collapsed": false
   },
   "outputs": [],
   "source": [
    "# split the data into one training dataset and one validation dataset for each k folds\n",
    "# indeed, for each k, the k-fold will be the validation dataset and the 9 others will compose the training dataset.\n",
    "CV_train = dict()\n",
    "CV_test = dict()\n",
    "for k in range(10):\n",
    "    CV_train[k] = pd.concat([fold[i] for i in range(10) if i!=k]).reset_index(drop=True)\n",
    "    CV_test[k] = fold[k]"
   ]
  },
  {
   "cell_type": "code",
   "execution_count": 13,
   "metadata": {
    "collapsed": false
   },
   "outputs": [
    {
     "name": "stdout",
     "output_type": "stream",
     "text": [
      "Validation on fold 0:\n",
      "Optimal regularization parameter: 1.9\n",
      "Optimal mean squared error: 0.482237326157\n",
      "Validation on fold 1:\n",
      "Optimal regularization parameter: -0.7\n",
      "Optimal mean squared error: 0.324733510727\n",
      "Validation on fold 2:\n",
      "Optimal regularization parameter: -0.7\n",
      "Optimal mean squared error: 0.39671350447\n",
      "Validation on fold 3:\n",
      "Optimal regularization parameter: 1.9\n",
      "Optimal mean squared error: 0.448142336347\n",
      "Validation on fold 4:\n",
      "Optimal regularization parameter: 1.9\n",
      "Optimal mean squared error: 0.450866620949\n",
      "Validation on fold 5:\n",
      "Optimal regularization parameter: -0.5\n",
      "Optimal mean squared error: 0.406585627674\n",
      "Validation on fold 6:\n",
      "Optimal regularization parameter: 0.8\n",
      "Optimal mean squared error: 0.47299409267\n",
      "Validation on fold 7:\n",
      "Optimal regularization parameter: 0.6\n",
      "Optimal mean squared error: 0.498738917258\n",
      "Validation on fold 8:\n",
      "Optimal regularization parameter: 1.9\n",
      "Optimal mean squared error: 0.486411890084\n",
      "Validation on fold 9:\n",
      "Optimal regularization parameter: -0.9\n",
      "Optimal mean squared error: 0.452912091851\n"
     ]
    }
   ],
   "source": [
    "# thanks to the \"generic\" functions previously defined, everything can easily be computed\n",
    "CV_opt_param = dict()\n",
    "for k in range(10):\n",
    "    print 'Validation on fold '+str(k)+':'\n",
    "    CV_opt_param[k] = opt_param(CV_train[k], CV_test[k]) "
   ]
  },
  {
   "cell_type": "markdown",
   "metadata": {},
   "source": [
    "# 5d. (words) \n",
    "#### Compare the performance with the standard linear regression case, discussing possible reasons for any change in performance. [5]  "
   ]
  },
  {
   "cell_type": "markdown",
   "metadata": {},
   "source": [
    "blablabla"
   ]
  },
  {
   "cell_type": "markdown",
   "metadata": {},
   "source": [
    "# 6. Classification"
   ]
  },
  {
   "cell_type": "markdown",
   "metadata": {},
   "source": [
    "# 6a. (words) \n",
    "#### Describe one limitation of using regression for this particular task? [2]"
   ]
  },
  {
   "cell_type": "markdown",
   "metadata": {},
   "source": [
    "blablabla"
   ]
  },
  {
   "cell_type": "markdown",
   "metadata": {},
   "source": [
    "# 6b. (words) \n",
    "#### Pick either Naive Bayes or KNN. \n",
    "#### Describe a positive and a negative feature of your  classifier with respect to this class. [2]"
   ]
  },
  {
   "cell_type": "markdown",
   "metadata": {},
   "source": [
    "NAIVE BAYES <br>\n",
    "Naive Bayes classification assumes that all features are independent among the others.<br>\n",
    "In real life, it is almost impossible that we get a set of predictors which are completely independent.\n",
    "<br><br>\n",
    "K-NN<br>\n",
    "positive: all the features values are numeric so we can directly use the Euclidean distance measure to calculate the similarity between any two given data instances. "
   ]
  },
  {
   "cell_type": "markdown",
   "metadata": {},
   "source": [
    "# 6c. (words) \n",
    "#### Describe any data pre-processing that you suggest for this data and your chosen classifier.  [2]"
   ]
  },
  {
   "cell_type": "markdown",
   "metadata": {},
   "source": [
    "- Compute similarity: calculate the distance between two datapoints (euclidean distance) <br>\n",
    "- Neighbors: Locate k most similar datapoints <br>\n",
    "- Response: Generate a response from a set of datapoints <br>\n",
    "- Accuracy: Summarize the accuracy of predictions <br>\n",
    "- Main: Tie it all together"
   ]
  },
  {
   "cell_type": "markdown",
   "metadata": {},
   "source": [
    "# 6d. (code) \n",
    "#### Implement your classifier and optimize its parameters. \n",
    "#### Make sure your optimization is  clearly commented. Use classification accuracy as your figure of merit [15]  "
   ]
  },
  {
   "cell_type": "code",
   "execution_count": 14,
   "metadata": {
    "collapsed": true
   },
   "outputs": [],
   "source": [
    "import operator"
   ]
  },
  {
   "cell_type": "code",
   "execution_count": 15,
   "metadata": {
    "collapsed": false
   },
   "outputs": [],
   "source": [
    "# compute the euclidean distance between 2 datapoints\n",
    "def euclideanDistance(x, y):\n",
    "    distance = 0 \n",
    "    for i in range(12):\n",
    "        distance += (x[i] - y[i])**2\n",
    "    return np.sqrt(distance)\n",
    "\n",
    "def getNeighbors(dataset, index, k):\n",
    "    datapoint = X_data_vector(dataset)[index]\n",
    "    distances = []\n",
    "    for x in range(len(X_data_vector(dataset))):\n",
    "        dist = euclideanDistance(datapoint, X_data_vector(dataset)[x])\n",
    "        distances.append((x, dist))\n",
    "    distances.sort(key=operator.itemgetter(1))\n",
    "    neighbors_index = []\n",
    "    for x in range(k):\n",
    "        neighbors_index.append(distances[x][0])\n",
    "    return neighbors_index\n",
    "            \n",
    "def pred_quality(dataset, index, k):\n",
    "    neigh = getNeighbors(dataset, index, k)[1]\n",
    "    return train_data['quality'][neigh]"
   ]
  },
  {
   "cell_type": "code",
   "execution_count": 16,
   "metadata": {
    "collapsed": false
   },
   "outputs": [
    {
     "name": "stdout",
     "output_type": "stream",
     "text": [
      "7\n",
      "[8, 278, 576]\n"
     ]
    }
   ],
   "source": [
    "neigh = pred_quality(train_data, 8, 3)\n",
    "print(neigh)\n",
    "print(getNeighbors(train_data, 8, 3))"
   ]
  },
  {
   "cell_type": "code",
   "execution_count": 90,
   "metadata": {
    "collapsed": false
   },
   "outputs": [
    {
     "data": {
      "text/html": [
       "<div>\n",
       "<table border=\"1\" class=\"dataframe\">\n",
       "  <thead>\n",
       "    <tr style=\"text-align: right;\">\n",
       "      <th></th>\n",
       "      <th>fixed acidity</th>\n",
       "      <th>volatile acidity</th>\n",
       "      <th>citric acid</th>\n",
       "      <th>residual sugar</th>\n",
       "      <th>chlorides</th>\n",
       "      <th>free sulfur dioxide</th>\n",
       "      <th>total sulfur dioxide</th>\n",
       "      <th>density</th>\n",
       "      <th>pH</th>\n",
       "      <th>sulphates</th>\n",
       "      <th>alcohol</th>\n",
       "      <th>quality</th>\n",
       "    </tr>\n",
       "  </thead>\n",
       "  <tbody>\n",
       "    <tr>\n",
       "      <th>0</th>\n",
       "      <td>7.3</td>\n",
       "      <td>0.910</td>\n",
       "      <td>0.10</td>\n",
       "      <td>1.8</td>\n",
       "      <td>0.074</td>\n",
       "      <td>20</td>\n",
       "      <td>56</td>\n",
       "      <td>0.99672</td>\n",
       "      <td>3.35</td>\n",
       "      <td>0.56</td>\n",
       "      <td>9.2</td>\n",
       "      <td>5</td>\n",
       "    </tr>\n",
       "    <tr>\n",
       "      <th>1</th>\n",
       "      <td>8.7</td>\n",
       "      <td>0.290</td>\n",
       "      <td>0.52</td>\n",
       "      <td>1.6</td>\n",
       "      <td>0.113</td>\n",
       "      <td>12</td>\n",
       "      <td>37</td>\n",
       "      <td>0.99690</td>\n",
       "      <td>3.25</td>\n",
       "      <td>0.58</td>\n",
       "      <td>9.5</td>\n",
       "      <td>5</td>\n",
       "    </tr>\n",
       "    <tr>\n",
       "      <th>2</th>\n",
       "      <td>8.9</td>\n",
       "      <td>0.840</td>\n",
       "      <td>0.34</td>\n",
       "      <td>1.4</td>\n",
       "      <td>0.050</td>\n",
       "      <td>4</td>\n",
       "      <td>10</td>\n",
       "      <td>0.99554</td>\n",
       "      <td>3.12</td>\n",
       "      <td>0.48</td>\n",
       "      <td>9.1</td>\n",
       "      <td>6</td>\n",
       "    </tr>\n",
       "    <tr>\n",
       "      <th>3</th>\n",
       "      <td>11.2</td>\n",
       "      <td>0.660</td>\n",
       "      <td>0.24</td>\n",
       "      <td>2.5</td>\n",
       "      <td>0.085</td>\n",
       "      <td>16</td>\n",
       "      <td>53</td>\n",
       "      <td>0.99930</td>\n",
       "      <td>3.06</td>\n",
       "      <td>0.72</td>\n",
       "      <td>11.0</td>\n",
       "      <td>6</td>\n",
       "    </tr>\n",
       "    <tr>\n",
       "      <th>4</th>\n",
       "      <td>8.2</td>\n",
       "      <td>0.885</td>\n",
       "      <td>0.20</td>\n",
       "      <td>1.4</td>\n",
       "      <td>0.086</td>\n",
       "      <td>7</td>\n",
       "      <td>31</td>\n",
       "      <td>0.99460</td>\n",
       "      <td>3.11</td>\n",
       "      <td>0.46</td>\n",
       "      <td>10.0</td>\n",
       "      <td>5</td>\n",
       "    </tr>\n",
       "    <tr>\n",
       "      <th>5</th>\n",
       "      <td>9.5</td>\n",
       "      <td>0.370</td>\n",
       "      <td>0.52</td>\n",
       "      <td>2.0</td>\n",
       "      <td>0.088</td>\n",
       "      <td>12</td>\n",
       "      <td>51</td>\n",
       "      <td>0.99613</td>\n",
       "      <td>3.29</td>\n",
       "      <td>0.58</td>\n",
       "      <td>11.1</td>\n",
       "      <td>6</td>\n",
       "    </tr>\n",
       "    <tr>\n",
       "      <th>6</th>\n",
       "      <td>8.2</td>\n",
       "      <td>0.200</td>\n",
       "      <td>0.43</td>\n",
       "      <td>2.5</td>\n",
       "      <td>0.076</td>\n",
       "      <td>31</td>\n",
       "      <td>51</td>\n",
       "      <td>0.99672</td>\n",
       "      <td>3.53</td>\n",
       "      <td>0.81</td>\n",
       "      <td>10.4</td>\n",
       "      <td>6</td>\n",
       "    </tr>\n",
       "    <tr>\n",
       "      <th>7</th>\n",
       "      <td>7.7</td>\n",
       "      <td>0.580</td>\n",
       "      <td>0.01</td>\n",
       "      <td>1.8</td>\n",
       "      <td>0.088</td>\n",
       "      <td>12</td>\n",
       "      <td>18</td>\n",
       "      <td>0.99568</td>\n",
       "      <td>3.32</td>\n",
       "      <td>0.56</td>\n",
       "      <td>10.5</td>\n",
       "      <td>7</td>\n",
       "    </tr>\n",
       "    <tr>\n",
       "      <th>8</th>\n",
       "      <td>7.4</td>\n",
       "      <td>0.700</td>\n",
       "      <td>0.00</td>\n",
       "      <td>1.9</td>\n",
       "      <td>0.076</td>\n",
       "      <td>11</td>\n",
       "      <td>34</td>\n",
       "      <td>0.99780</td>\n",
       "      <td>3.51</td>\n",
       "      <td>0.56</td>\n",
       "      <td>9.4</td>\n",
       "      <td>5</td>\n",
       "    </tr>\n",
       "    <tr>\n",
       "      <th>9</th>\n",
       "      <td>5.8</td>\n",
       "      <td>1.010</td>\n",
       "      <td>0.66</td>\n",
       "      <td>2.0</td>\n",
       "      <td>0.039</td>\n",
       "      <td>15</td>\n",
       "      <td>88</td>\n",
       "      <td>0.99357</td>\n",
       "      <td>3.66</td>\n",
       "      <td>0.60</td>\n",
       "      <td>11.5</td>\n",
       "      <td>6</td>\n",
       "    </tr>\n",
       "  </tbody>\n",
       "</table>\n",
       "</div>"
      ],
      "text/plain": [
       "   fixed acidity  volatile acidity  citric acid  residual sugar  chlorides  \\\n",
       "0            7.3             0.910         0.10             1.8      0.074   \n",
       "1            8.7             0.290         0.52             1.6      0.113   \n",
       "2            8.9             0.840         0.34             1.4      0.050   \n",
       "3           11.2             0.660         0.24             2.5      0.085   \n",
       "4            8.2             0.885         0.20             1.4      0.086   \n",
       "5            9.5             0.370         0.52             2.0      0.088   \n",
       "6            8.2             0.200         0.43             2.5      0.076   \n",
       "7            7.7             0.580         0.01             1.8      0.088   \n",
       "8            7.4             0.700         0.00             1.9      0.076   \n",
       "9            5.8             1.010         0.66             2.0      0.039   \n",
       "\n",
       "   free sulfur dioxide  total sulfur dioxide  density    pH  sulphates  \\\n",
       "0                   20                    56  0.99672  3.35       0.56   \n",
       "1                   12                    37  0.99690  3.25       0.58   \n",
       "2                    4                    10  0.99554  3.12       0.48   \n",
       "3                   16                    53  0.99930  3.06       0.72   \n",
       "4                    7                    31  0.99460  3.11       0.46   \n",
       "5                   12                    51  0.99613  3.29       0.58   \n",
       "6                   31                    51  0.99672  3.53       0.81   \n",
       "7                   12                    18  0.99568  3.32       0.56   \n",
       "8                   11                    34  0.99780  3.51       0.56   \n",
       "9                   15                    88  0.99357  3.66       0.60   \n",
       "\n",
       "   alcohol  quality  \n",
       "0      9.2        5  \n",
       "1      9.5        5  \n",
       "2      9.1        6  \n",
       "3     11.0        6  \n",
       "4     10.0        5  \n",
       "5     11.1        6  \n",
       "6     10.4        6  \n",
       "7     10.5        7  \n",
       "8      9.4        5  \n",
       "9     11.5        6  "
      ]
     },
     "execution_count": 90,
     "metadata": {},
     "output_type": "execute_result"
    }
   ],
   "source": [
    "train_data[:10]"
   ]
  },
  {
   "cell_type": "code",
   "execution_count": 75,
   "metadata": {
    "collapsed": false
   },
   "outputs": [
    {
     "data": {
      "text/html": [
       "<div>\n",
       "<table border=\"1\" class=\"dataframe\">\n",
       "  <thead>\n",
       "    <tr style=\"text-align: right;\">\n",
       "      <th></th>\n",
       "      <th>fixed acidity</th>\n",
       "      <th>volatile acidity</th>\n",
       "      <th>citric acid</th>\n",
       "      <th>residual sugar</th>\n",
       "      <th>chlorides</th>\n",
       "      <th>free sulfur dioxide</th>\n",
       "      <th>total sulfur dioxide</th>\n",
       "      <th>density</th>\n",
       "      <th>pH</th>\n",
       "      <th>sulphates</th>\n",
       "      <th>alcohol</th>\n",
       "      <th>quality</th>\n",
       "    </tr>\n",
       "  </thead>\n",
       "  <tbody>\n",
       "    <tr>\n",
       "      <th>108</th>\n",
       "      <td>10.1</td>\n",
       "      <td>0.43</td>\n",
       "      <td>0.4</td>\n",
       "      <td>2.6</td>\n",
       "      <td>0.092</td>\n",
       "      <td>13</td>\n",
       "      <td>52</td>\n",
       "      <td>0.99834</td>\n",
       "      <td>3.22</td>\n",
       "      <td>0.64</td>\n",
       "      <td>10</td>\n",
       "      <td>7</td>\n",
       "    </tr>\n",
       "  </tbody>\n",
       "</table>\n",
       "</div>"
      ],
      "text/plain": [
       "     fixed acidity  volatile acidity  citric acid  residual sugar  chlorides  \\\n",
       "108           10.1              0.43          0.4             2.6      0.092   \n",
       "\n",
       "     free sulfur dioxide  total sulfur dioxide  density    pH  sulphates  \\\n",
       "108                   13                    52  0.99834  3.22       0.64   \n",
       "\n",
       "     alcohol  quality  \n",
       "108       10        7  "
      ]
     },
     "execution_count": 75,
     "metadata": {},
     "output_type": "execute_result"
    }
   ],
   "source": [
    "train_data[108:109]"
   ]
  },
  {
   "cell_type": "code",
   "execution_count": 79,
   "metadata": {
    "collapsed": false
   },
   "outputs": [
    {
     "data": {
      "text/plain": [
       "7"
      ]
     },
     "execution_count": 79,
     "metadata": {},
     "output_type": "execute_result"
    }
   ],
   "source": [
    "train_data['quality'][108]"
   ]
  },
  {
   "cell_type": "code",
   "execution_count": 51,
   "metadata": {
    "collapsed": false
   },
   "outputs": [
    {
     "data": {
      "text/plain": [
       "array([  1.    ,   8.7   ,   0.29  ,   0.52  ,   1.6   ,   0.113 ,\n",
       "        12.    ,  37.    ,   0.9969,   3.25  ,   0.58  ,   9.5   ])"
      ]
     },
     "execution_count": 51,
     "metadata": {},
     "output_type": "execute_result"
    }
   ],
   "source": [
    "X_data_vector(train_data)[1]"
   ]
  },
  {
   "cell_type": "markdown",
   "metadata": {},
   "source": [
    "# 6e. (code) \n",
    "#### Display the confusion matrix on the text data [5]  "
   ]
  },
  {
   "cell_type": "code",
   "execution_count": null,
   "metadata": {
    "collapsed": true
   },
   "outputs": [],
   "source": []
  },
  {
   "cell_type": "markdown",
   "metadata": {},
   "source": [
    "# 6f. (words) \n",
    "#### Discuss the performance and suggest a way in which they could be improved [4]  "
   ]
  },
  {
   "cell_type": "markdown",
   "metadata": {},
   "source": [
    "blablabla"
   ]
  },
  {
   "cell_type": "markdown",
   "metadata": {},
   "source": [
    "# 7. Bonus question"
   ]
  },
  {
   "cell_type": "markdown",
   "metadata": {},
   "source": [
    "# 7a. (words) \n",
    "#### The data was originally published in Modeling wine preferences by data mining from physicochemical properties, Cortez et al, Decision Support Systems 47(4). Write a review of this paper, focusing on the Machine Learning methods chosen and Assumptions taken. \n",
    "#### Include a description of how you might advance the work. This should be submitted as a separate PDF file."
   ]
  },
  {
   "cell_type": "markdown",
   "metadata": {},
   "source": [
    "blablabla"
   ]
  }
 ],
 "metadata": {
  "kernelspec": {
   "display_name": "Python 2",
   "language": "python",
   "name": "python2"
  },
  "language_info": {
   "codemirror_mode": {
    "name": "ipython",
    "version": 2
   },
   "file_extension": ".py",
   "mimetype": "text/x-python",
   "name": "python",
   "nbconvert_exporter": "python",
   "pygments_lexer": "ipython2",
   "version": "2.7.10"
  }
 },
 "nbformat": 4,
 "nbformat_minor": 0
}
